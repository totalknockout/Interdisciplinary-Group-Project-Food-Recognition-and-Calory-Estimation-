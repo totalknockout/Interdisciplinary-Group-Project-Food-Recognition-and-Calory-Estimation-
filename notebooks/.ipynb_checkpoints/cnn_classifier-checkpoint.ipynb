{
 "cells": [
  {
   "cell_type": "code",
   "execution_count": 1,
   "metadata": {
    "pycharm": {
     "name": "#%%\n"
    }
   },
   "outputs": [],
   "source": [
    "import pandas as pd\n",
    "import numpy as np\n",
    "import matplotlib.pyplot as plt\n",
    "from PIL import Image\n",
    "import cv2"
   ]
  },
  {
   "cell_type": "code",
   "execution_count": 2,
   "metadata": {
    "pycharm": {
     "name": "#%%\n"
    }
   },
   "outputs": [
    {
     "data": {
      "text/plain": [
       "['Baked_salmon_and_new_potatoes',\n",
       " 'Steak_and_chips',\n",
       " 'Macaroni_cheese',\n",
       " \"Shepherd's_pie\",\n",
       " 'Sausage_rolls']"
      ]
     },
     "execution_count": 2,
     "metadata": {},
     "output_type": "execute_result"
    }
   ],
   "source": [
    "import glob\n",
    "import os\n",
    "\n",
    "paths = glob.glob((os.getcwd()+'/../input_data/augmented_images_100p/*'))\n",
    "\n",
    "#get the list of dishes\n",
    "dishes = [path.split('/')[-1] for path in paths]\n",
    "dishes[0:5]"
   ]
  },
  {
   "cell_type": "code",
   "execution_count": 3,
   "metadata": {
    "pycharm": {
     "name": "#%%\n"
    }
   },
   "outputs": [
    {
     "data": {
      "text/plain": [
       "{'Baked_salmon_and_new_potatoes': 0,\n",
       " 'Steak_and_chips': 1,\n",
       " 'Macaroni_cheese': 2,\n",
       " \"Shepherd's_pie\": 3,\n",
       " 'Sausage_rolls': 4,\n",
       " 'Chicken_tikka_masala': 5,\n",
       " 'Chicken_burger_and_chips': 6,\n",
       " 'Jacket_potato_with_beans_and_cheese': 7,\n",
       " 'Roast_chicken_meat': 8,\n",
       " 'Chicken_and_mushroom_pie': 9,\n",
       " 'Black_pudding': 10,\n",
       " 'Stir_fry': 11,\n",
       " 'Bacon_sandwich': 12,\n",
       " 'Spaghetti_Bolognese': 13,\n",
       " 'Roast_potatoes': 14,\n",
       " 'Fajita_wraps': 15,\n",
       " 'Roast_beef_meat': 16,\n",
       " 'Mushrooms': 17,\n",
       " 'Lasagne': 18,\n",
       " 'Eggs_Scrambled': 19,\n",
       " 'Paella': 20,\n",
       " 'Steak_and_kidney_pie': 21,\n",
       " 'roast_turkey_carved': 22,\n",
       " 'Beef_stew': 23,\n",
       " 'Fish_finger_sandwiches': 24,\n",
       " 'Cottage_pie': 25,\n",
       " 'Fish_and_chips': 26,\n",
       " 'Sweet_and_sour_chicken': 27,\n",
       " 'Beans_on_toast': 28,\n",
       " 'pasta_bake_plate': 29,\n",
       " 'Full_English_breakfast': 30,\n",
       " 'Thai_curry': 31,\n",
       " 'Baked_beans': 32,\n",
       " 'Sausage_and_mash': 33,\n",
       " 'Sunday_roast_with_all_the_trimmings': 34,\n",
       " 'Beef_burger_and_chips': 35,\n",
       " 'Omelette': 36,\n",
       " 'Cornish_pasties': 37,\n",
       " 'Sausage': 38,\n",
       " 'Chilli_con_carne': 39,\n",
       " 'Pigs_in_blankets_(sausages_wrapped_in_bacon)': 40,\n",
       " 'Scrambled_egg': 41,\n",
       " 'Tomato_soup': 42,\n",
       " 'Eggs_Fried': 43,\n",
       " 'Ham_egg_and_chips': 44,\n",
       " 'plain_toast': 45,\n",
       " 'Fried_tomato': 46,\n",
       " 'Salad': 47,\n",
       " 'Toad_in_the_hole': 48,\n",
       " 'Pizza': 49,\n",
       " 'Bacon': 50,\n",
       " 'Ham_and_cheese_toastie': 51,\n",
       " 'Meatballs': 52,\n",
       " 'Fishcakes': 53,\n",
       " 'Scones_with_cream_and_jam': 54,\n",
       " 'UK_chips': 55}"
      ]
     },
     "execution_count": 3,
     "metadata": {},
     "output_type": "execute_result"
    }
   ],
   "source": [
    "# create a dict of dishes so we can predict a number\n",
    "dishes_dict = {}\n",
    "for i, dish in enumerate(dishes):\n",
    "    dishes_dict[dish] = i\n",
    "\n",
    "dishes_dict"
   ]
  },
  {
   "cell_type": "code",
   "execution_count": 4,
   "metadata": {
    "pycharm": {
     "name": "#%%\n"
    },
    "scrolled": true
   },
   "outputs": [
    {
     "name": "stdout",
     "output_type": "stream",
     "text": [
      "(800, 100, 100, 3) (1, 1)\n",
      "(792, 100, 100, 3) (1, 1)\n",
      "(576, 100, 100, 3) (1, 1)\n",
      "(792, 100, 100, 3) (1, 1)\n",
      "(760, 100, 100, 3) (1, 1)\n",
      "(800, 100, 100, 3) (1, 1)\n",
      "(840, 100, 100, 3) (1, 1)\n",
      "(800, 100, 100, 3) (1, 1)\n",
      "(504, 100, 100, 3) (1, 1)\n",
      "(800, 100, 100, 3) (1, 1)\n",
      "(800, 100, 100, 3) (1, 1)\n",
      "(784, 100, 100, 3) (1, 1)\n",
      "(800, 100, 100, 3) (1, 1)\n",
      "(800, 100, 100, 3) (1, 1)\n",
      "(800, 100, 100, 3) (1, 1)\n",
      "(808, 100, 100, 3) (1, 1)\n",
      "(792, 100, 100, 3) (1, 1)\n",
      "(800, 100, 100, 3) (1, 1)\n",
      "(568, 100, 100, 3) (1, 1)\n",
      "(800, 100, 100, 3) (1, 1)\n",
      "(800, 100, 100, 3) (1, 1)\n",
      "(776, 100, 100, 3) (1, 1)\n",
      "(744, 100, 100, 3) (1, 1)\n",
      "(800, 100, 100, 3) (1, 1)\n",
      "(800, 100, 100, 3) (1, 1)\n",
      "(800, 100, 100, 3) (1, 1)\n",
      "(688, 100, 100, 3) (1, 1)\n",
      "(800, 100, 100, 3) (1, 1)\n",
      "(800, 100, 100, 3) (1, 1)\n",
      "(800, 100, 100, 3) (1, 1)\n",
      "(800, 100, 100, 3) (1, 1)\n",
      "(792, 100, 100, 3) (1, 1)\n",
      "(536, 100, 100, 3) (1, 1)\n",
      "(792, 100, 100, 3) (1, 1)\n",
      "(752, 100, 100, 3) (1, 1)\n",
      "(800, 100, 100, 3) (1, 1)\n",
      "(800, 100, 100, 3) (1, 1)\n",
      "(800, 100, 100, 3) (1, 1)\n",
      "(736, 100, 100, 3) (1, 1)\n",
      "(752, 100, 100, 3) (1, 1)\n",
      "(1600, 100, 100, 3) (1, 1)\n",
      "(792, 100, 100, 3) (1, 1)\n",
      "(800, 100, 100, 3) (1, 1)\n",
      "(800, 100, 100, 3) (1, 1)\n",
      "(736, 100, 100, 3) (1, 1)\n",
      "(800, 100, 100, 3) (1, 1)\n",
      "(328, 100, 100, 3) (1, 1)\n",
      "(800, 100, 100, 3) (1, 1)\n",
      "(784, 100, 100, 3) (1, 1)\n",
      "(792, 100, 100, 3) (1, 1)\n",
      "(800, 100, 100, 3) (1, 1)\n",
      "(800, 100, 100, 3) (1, 1)\n",
      "(800, 100, 100, 3) (1, 1)\n",
      "(800, 100, 100, 3) (1, 1)\n",
      "(800, 100, 100, 3) (1, 1)\n",
      "(744, 100, 100, 3) (1, 1)\n"
     ]
    }
   ],
   "source": [
    "X = np.empty(shape=(1,100, 100, 3))\n",
    "y = np.empty(shape=(1,1), dtype=np.int32)\n",
    "\n",
    "for i, dish in enumerate(dishes):\n",
    "    files = glob.glob((os.getcwd()+'/../input_data/augmented_images_100p/'+dish+'/*.jpg'))\n",
    "    images = np.array([np.asarray(cv2.imread(file)) for file in files])\n",
    "\n",
    "    X = np.concatenate((X, images), axis=0)\n",
    "    _y = np.array(dishes_dict[dish], ndmin=2)\n",
    "\n",
    "    print(images.shape, _y.shape)\n",
    "\n",
    "    for i in range(images.shape[0]):\n",
    "        y = np.concatenate((y, _y), axis=0)"
   ]
  },
  {
   "cell_type": "code",
   "execution_count": 5,
   "metadata": {
    "pycharm": {
     "name": "#%%\n"
    }
   },
   "outputs": [
    {
     "data": {
      "text/plain": [
       "(43561, 100, 100, 3)"
      ]
     },
     "execution_count": 5,
     "metadata": {},
     "output_type": "execute_result"
    }
   ],
   "source": [
    "np.save('X', X)\n",
    "np.save('y', y)"
   ]
  },
  {
   "cell_type": "code",
   "execution_count": 6,
   "metadata": {
    "pycharm": {
     "name": "#%%\n"
    }
   },
   "outputs": [
    {
     "name": "stdout",
     "output_type": "stream",
     "text": [
      "(43561, 100, 100, 3) (43561, 1)\n"
     ]
    },
    {
     "data": {
      "text/plain": [
       "((34848, 100, 100, 3), (34848, 1), (8712, 100, 100, 3), (8712, 1))"
      ]
     },
     "execution_count": 6,
     "metadata": {},
     "output_type": "execute_result"
    }
   ],
   "source": [
    "from sklearn.model_selection import train_test_split\n",
    "\n",
    "# remove the first element cuz it's redundant\n",
    "print(X.shape, y.shape)\n",
    "X = np.delete(X, 0, 0)\n",
    "y = np.delete(y, 0, 0)\n",
    "\n",
    "X_train, X_test, y_train, y_test = train_test_split(X, y, test_size = 0.20, shuffle=True, random_state = 0)\n",
    "\n",
    "X_train.shape, y_train.shape, X_test.shape, y_test.shape"
   ]
  },
  {
   "cell_type": "code",
   "execution_count": 7,
   "metadata": {
    "pycharm": {
     "name": "#%%\n"
    }
   },
   "outputs": [],
   "source": [
    "from tensorflow.keras.utils import to_categorical\n",
    "\n",
    "rows, cols, dims = X_train.shape[1:]\n",
    "\n",
    "input_shape = (rows, cols, dims)\n",
    "X_train = X_train.astype('float64')\n",
    "X_test = X_test.astype('float64')\n",
    "\n",
    "X_train /= 255\n",
    "X_test /= 255\n",
    "\n",
    "\n",
    "y_train_one_hot = to_categorical(y_train)\n",
    "y_test_one_hot = to_categorical(y_test)"
   ]
  },
  {
   "cell_type": "code",
   "execution_count": 8,
   "metadata": {
    "pycharm": {
     "name": "#%%\n"
    }
   },
   "outputs": [
    {
     "data": {
      "text/plain": [
       "(34848, 56)"
      ]
     },
     "execution_count": 8,
     "metadata": {},
     "output_type": "execute_result"
    }
   ],
   "source": [
    "y_train_one_hot.shape"
   ]
  },
  {
   "cell_type": "code",
   "execution_count": 9,
   "metadata": {
    "pycharm": {
     "name": "#%%\n"
    }
   },
   "outputs": [],
   "source": [
    "import tensorflow as tf\n",
    "\n",
    "from keras.models import Sequential\n",
    "from keras.layers import Conv2D, MaxPooling2D, Dropout, Flatten, Dense"
   ]
  },
  {
   "cell_type": "code",
   "execution_count": 10,
   "metadata": {
    "pycharm": {
     "name": "#%%\n"
    }
   },
   "outputs": [
    {
     "name": "stdout",
     "output_type": "stream",
     "text": [
      "Metal device set to: Apple M1 Pro\n"
     ]
    },
    {
     "name": "stderr",
     "output_type": "stream",
     "text": [
      "2022-04-27 11:16:22.411140: I tensorflow/core/common_runtime/pluggable_device/pluggable_device_factory.cc:305] Could not identify NUMA node of platform GPU ID 0, defaulting to 0. Your kernel may not have been built with NUMA support.\n",
      "2022-04-27 11:16:22.411909: I tensorflow/core/common_runtime/pluggable_device/pluggable_device_factory.cc:271] Created TensorFlow device (/job:localhost/replica:0/task:0/device:GPU:0 with 0 MB memory) -> physical PluggableDevice (device: 0, name: METAL, pci bus id: <undefined>)\n"
     ]
    }
   ],
   "source": [
    "#model architecture\n",
    "model = Sequential()\n",
    "model.add(Conv2D(256, (3, 3), activation='relu', input_shape=input_shape))\n",
    "model.add(MaxPooling2D((2, 2)))\n",
    "model.add(Dropout(0.2))\n",
    "\n",
    "model.add(Conv2D(128, (3, 3), activation='relu'))\n",
    "model.add(MaxPooling2D((2, 2)))\n",
    "model.add(Dropout(0.2))\n",
    "\n",
    "model.add(Conv2D(64, (3, 3), activation='relu'))\n",
    "model.add(MaxPooling2D((2, 2)))\n",
    "model.add(Dropout(0.2))\n",
    "\n",
    "model.add(Conv2D(32, (1, 1), activation='relu'))\n",
    "model.add(MaxPooling2D((2, 2)))\n",
    "model.add(Dropout(0.2))\n",
    "\n",
    "model.add(Flatten())\n",
    "model.add(Dropout(0.2))\n",
    "model.add(Dense(len(dishes), activation='softmax'))"
   ]
  },
  {
   "cell_type": "code",
   "execution_count": 11,
   "metadata": {
    "pycharm": {
     "name": "#%%\n"
    }
   },
   "outputs": [],
   "source": [
    "batch_size = 256\n",
    "epochs = 150\n",
    "model.compile(optimizer='rmsprop', loss='categorical_crossentropy', metrics=['accuracy'])"
   ]
  },
  {
   "cell_type": "code",
   "execution_count": 12,
   "metadata": {
    "pycharm": {
     "name": "#%%\n"
    }
   },
   "outputs": [
    {
     "name": "stdout",
     "output_type": "stream",
     "text": [
      "Model: \"sequential\"\n",
      "_________________________________________________________________\n",
      " Layer (type)                Output Shape              Param #   \n",
      "=================================================================\n",
      " conv2d (Conv2D)             (None, 98, 98, 256)       7168      \n",
      "                                                                 \n",
      " max_pooling2d (MaxPooling2D  (None, 49, 49, 256)      0         \n",
      " )                                                               \n",
      "                                                                 \n",
      " dropout (Dropout)           (None, 49, 49, 256)       0         \n",
      "                                                                 \n",
      " conv2d_1 (Conv2D)           (None, 47, 47, 128)       295040    \n",
      "                                                                 \n",
      " max_pooling2d_1 (MaxPooling  (None, 23, 23, 128)      0         \n",
      " 2D)                                                             \n",
      "                                                                 \n",
      " dropout_1 (Dropout)         (None, 23, 23, 128)       0         \n",
      "                                                                 \n",
      " conv2d_2 (Conv2D)           (None, 21, 21, 64)        73792     \n",
      "                                                                 \n",
      " max_pooling2d_2 (MaxPooling  (None, 10, 10, 64)       0         \n",
      " 2D)                                                             \n",
      "                                                                 \n",
      " dropout_2 (Dropout)         (None, 10, 10, 64)        0         \n",
      "                                                                 \n",
      " conv2d_3 (Conv2D)           (None, 10, 10, 32)        2080      \n",
      "                                                                 \n",
      " max_pooling2d_3 (MaxPooling  (None, 5, 5, 32)         0         \n",
      " 2D)                                                             \n",
      "                                                                 \n",
      " dropout_3 (Dropout)         (None, 5, 5, 32)          0         \n",
      "                                                                 \n",
      " flatten (Flatten)           (None, 800)               0         \n",
      "                                                                 \n",
      " dropout_4 (Dropout)         (None, 800)               0         \n",
      "                                                                 \n",
      " dense (Dense)               (None, 56)                44856     \n",
      "                                                                 \n",
      "=================================================================\n",
      "Total params: 422,936\n",
      "Trainable params: 422,936\n",
      "Non-trainable params: 0\n",
      "_________________________________________________________________\n"
     ]
    }
   ],
   "source": [
    "model.summary()"
   ]
  },
  {
   "cell_type": "code",
   "execution_count": 13,
   "metadata": {
    "pycharm": {
     "name": "#%%\n"
    }
   },
   "outputs": [
    {
     "name": "stdout",
     "output_type": "stream",
     "text": [
      "Epoch 1/150\n"
     ]
    },
    {
     "name": "stderr",
     "output_type": "stream",
     "text": [
      "2022-04-27 11:16:46.475871: W tensorflow/core/platform/profile_utils/cpu_utils.cc:128] Failed to get CPU frequency: 0 Hz\n",
      "2022-04-27 11:16:46.901377: I tensorflow/core/grappler/optimizers/custom_graph_optimizer_registry.cc:113] Plugin optimizer for device_type GPU is enabled.\n"
     ]
    },
    {
     "name": "stdout",
     "output_type": "stream",
     "text": [
      "137/137 [==============================] - ETA: 0s - loss: 3.8855 - accuracy: 0.0547"
     ]
    },
    {
     "name": "stderr",
     "output_type": "stream",
     "text": [
      "2022-04-27 11:19:30.637346: I tensorflow/core/grappler/optimizers/custom_graph_optimizer_registry.cc:113] Plugin optimizer for device_type GPU is enabled.\n"
     ]
    },
    {
     "name": "stdout",
     "output_type": "stream",
     "text": [
      "137/137 [==============================] - 179s 1s/step - loss: 3.8855 - accuracy: 0.0547 - val_loss: 3.9873 - val_accuracy: 0.0393\n",
      "Epoch 2/150\n",
      "137/137 [==============================] - 193s 1s/step - loss: 3.5990 - accuracy: 0.0971 - val_loss: 3.8465 - val_accuracy: 0.0593\n",
      "Epoch 3/150\n",
      "137/137 [==============================] - 178s 1s/step - loss: 3.3931 - accuracy: 0.1393 - val_loss: 3.3303 - val_accuracy: 0.1433\n",
      "Epoch 4/150\n",
      "137/137 [==============================] - 172s 1s/step - loss: 3.2109 - accuracy: 0.1719 - val_loss: 3.5465 - val_accuracy: 0.1204\n",
      "Epoch 5/150\n",
      "137/137 [==============================] - 181s 1s/step - loss: 3.0838 - accuracy: 0.1979 - val_loss: 3.1044 - val_accuracy: 0.1992\n",
      "Epoch 6/150\n",
      "137/137 [==============================] - 187s 1s/step - loss: 2.9798 - accuracy: 0.2218 - val_loss: 3.3716 - val_accuracy: 0.1444\n",
      "Epoch 7/150\n",
      "137/137 [==============================] - 172s 1s/step - loss: 2.8856 - accuracy: 0.2425 - val_loss: 3.0712 - val_accuracy: 0.2009\n",
      "Epoch 8/150\n",
      "137/137 [==============================] - 177s 1s/step - loss: 2.7913 - accuracy: 0.2608 - val_loss: 3.0662 - val_accuracy: 0.2097\n",
      "Epoch 9/150\n",
      "137/137 [==============================] - 175s 1s/step - loss: 2.7117 - accuracy: 0.2807 - val_loss: 2.9369 - val_accuracy: 0.2316\n",
      "Epoch 10/150\n",
      "137/137 [==============================] - 179s 1s/step - loss: 2.6543 - accuracy: 0.2947 - val_loss: 2.7777 - val_accuracy: 0.2671\n",
      "Epoch 11/150\n",
      "137/137 [==============================] - 178s 1s/step - loss: 2.5779 - accuracy: 0.3130 - val_loss: 2.7295 - val_accuracy: 0.2811\n",
      "Epoch 12/150\n",
      "137/137 [==============================] - 189s 1s/step - loss: 2.5151 - accuracy: 0.3226 - val_loss: 2.7498 - val_accuracy: 0.2730\n",
      "Epoch 13/150\n",
      "137/137 [==============================] - 181s 1s/step - loss: 2.4777 - accuracy: 0.3364 - val_loss: 2.6236 - val_accuracy: 0.3058\n",
      "Epoch 14/150\n",
      "137/137 [==============================] - 176s 1s/step - loss: 2.4257 - accuracy: 0.3458 - val_loss: 2.6510 - val_accuracy: 0.3037\n",
      "Epoch 15/150\n",
      "137/137 [==============================] - 176s 1s/step - loss: 2.3716 - accuracy: 0.3571 - val_loss: 2.7705 - val_accuracy: 0.2774\n",
      "Epoch 16/150\n",
      "137/137 [==============================] - 178s 1s/step - loss: 2.3234 - accuracy: 0.3707 - val_loss: 2.5621 - val_accuracy: 0.3198\n",
      "Epoch 17/150\n",
      "137/137 [==============================] - 176s 1s/step - loss: 2.2796 - accuracy: 0.3794 - val_loss: 2.5043 - val_accuracy: 0.3297\n",
      "Epoch 18/150\n",
      "137/137 [==============================] - 187s 1s/step - loss: 2.2463 - accuracy: 0.3872 - val_loss: 2.6176 - val_accuracy: 0.3119\n",
      "Epoch 19/150\n",
      "137/137 [==============================] - 182s 1s/step - loss: 2.2245 - accuracy: 0.3897 - val_loss: 2.3387 - val_accuracy: 0.3776\n",
      "Epoch 20/150\n",
      "137/137 [==============================] - 175s 1s/step - loss: 2.1696 - accuracy: 0.4014 - val_loss: 2.3643 - val_accuracy: 0.3635\n",
      "Epoch 21/150\n",
      "137/137 [==============================] - 171s 1s/step - loss: 2.1448 - accuracy: 0.4098 - val_loss: 2.5809 - val_accuracy: 0.3100\n",
      "Epoch 22/150\n",
      "137/137 [==============================] - 175s 1s/step - loss: 2.1147 - accuracy: 0.4163 - val_loss: 2.3766 - val_accuracy: 0.3566\n",
      "Epoch 23/150\n",
      "137/137 [==============================] - 183s 1s/step - loss: 2.0844 - accuracy: 0.4231 - val_loss: 2.4364 - val_accuracy: 0.3432\n",
      "Epoch 24/150\n",
      "137/137 [==============================] - 173s 1s/step - loss: 2.0692 - accuracy: 0.4288 - val_loss: 2.5071 - val_accuracy: 0.3188\n",
      "Epoch 25/150\n",
      "137/137 [==============================] - 182s 1s/step - loss: 2.0306 - accuracy: 0.4353 - val_loss: 2.3689 - val_accuracy: 0.3627\n",
      "Epoch 26/150\n",
      "137/137 [==============================] - 172s 1s/step - loss: 2.0182 - accuracy: 0.4393 - val_loss: 2.4503 - val_accuracy: 0.3323\n",
      "Epoch 27/150\n",
      "137/137 [==============================] - 176s 1s/step - loss: 2.0006 - accuracy: 0.4428 - val_loss: 2.1769 - val_accuracy: 0.4100\n",
      "Epoch 28/150\n",
      "137/137 [==============================] - 171s 1s/step - loss: 1.9670 - accuracy: 0.4521 - val_loss: 2.3707 - val_accuracy: 0.3527\n",
      "Epoch 29/150\n",
      "137/137 [==============================] - 170s 1s/step - loss: 1.9537 - accuracy: 0.4537 - val_loss: 2.3945 - val_accuracy: 0.3500\n",
      "Epoch 30/150\n",
      "137/137 [==============================] - 172s 1s/step - loss: 1.9241 - accuracy: 0.4602 - val_loss: 2.2303 - val_accuracy: 0.3896\n",
      "Epoch 31/150\n",
      "137/137 [==============================] - 170s 1s/step - loss: 1.9192 - accuracy: 0.4629 - val_loss: 2.6876 - val_accuracy: 0.3163\n",
      "Epoch 32/150\n",
      "137/137 [==============================] - 170s 1s/step - loss: 1.9035 - accuracy: 0.4687 - val_loss: 2.0562 - val_accuracy: 0.4267\n",
      "Epoch 33/150\n",
      "137/137 [==============================] - 183s 1s/step - loss: 1.8853 - accuracy: 0.4687 - val_loss: 2.2927 - val_accuracy: 0.3747\n",
      "Epoch 34/150\n",
      "137/137 [==============================] - 173s 1s/step - loss: 1.8624 - accuracy: 0.4782 - val_loss: 2.3218 - val_accuracy: 0.3791\n",
      "Epoch 35/150\n",
      "137/137 [==============================] - 171s 1s/step - loss: 1.8509 - accuracy: 0.4775 - val_loss: 2.2440 - val_accuracy: 0.3843\n",
      "Epoch 36/150\n",
      "137/137 [==============================] - 175s 1s/step - loss: 1.8314 - accuracy: 0.4823 - val_loss: 2.4693 - val_accuracy: 0.3362\n",
      "Epoch 37/150\n",
      "137/137 [==============================] - 187s 1s/step - loss: 1.8164 - accuracy: 0.4850 - val_loss: 2.1191 - val_accuracy: 0.4118\n",
      "Epoch 38/150\n",
      "137/137 [==============================] - 181s 1s/step - loss: 1.8085 - accuracy: 0.4918 - val_loss: 2.1790 - val_accuracy: 0.3993\n",
      "Epoch 39/150\n",
      "137/137 [==============================] - 175s 1s/step - loss: 1.7912 - accuracy: 0.4918 - val_loss: 2.4112 - val_accuracy: 0.3525\n",
      "Epoch 40/150\n",
      "137/137 [==============================] - 173s 1s/step - loss: 1.7810 - accuracy: 0.4947 - val_loss: 2.2543 - val_accuracy: 0.3809\n",
      "Epoch 41/150\n",
      "137/137 [==============================] - 173s 1s/step - loss: 1.7668 - accuracy: 0.4976 - val_loss: 2.0700 - val_accuracy: 0.4239\n",
      "Epoch 42/150\n",
      "137/137 [==============================] - 184s 1s/step - loss: 1.7575 - accuracy: 0.5010 - val_loss: 2.1026 - val_accuracy: 0.4276\n",
      "Epoch 43/150\n",
      "137/137 [==============================] - 183s 1s/step - loss: 1.7428 - accuracy: 0.5031 - val_loss: 2.2182 - val_accuracy: 0.3921\n",
      "Epoch 44/150\n",
      "137/137 [==============================] - 175s 1s/step - loss: 1.7423 - accuracy: 0.5035 - val_loss: 2.0470 - val_accuracy: 0.4267\n",
      "Epoch 45/150\n",
      "137/137 [==============================] - 185s 1s/step - loss: 1.7273 - accuracy: 0.5072 - val_loss: 2.2985 - val_accuracy: 0.3775\n",
      "Epoch 46/150\n",
      "137/137 [==============================] - 180s 1s/step - loss: 1.7157 - accuracy: 0.5115 - val_loss: 2.3197 - val_accuracy: 0.3689\n",
      "Epoch 47/150\n",
      "137/137 [==============================] - 181s 1s/step - loss: 1.7110 - accuracy: 0.5108 - val_loss: 2.1035 - val_accuracy: 0.4193\n",
      "Epoch 48/150\n",
      "137/137 [==============================] - 176s 1s/step - loss: 1.6892 - accuracy: 0.5179 - val_loss: 2.1472 - val_accuracy: 0.4054\n",
      "Epoch 49/150\n",
      "137/137 [==============================] - 171s 1s/step - loss: 1.6926 - accuracy: 0.5155 - val_loss: 2.1609 - val_accuracy: 0.4079\n",
      "Epoch 50/150\n",
      "137/137 [==============================] - 170s 1s/step - loss: 1.6786 - accuracy: 0.5172 - val_loss: 2.1188 - val_accuracy: 0.4136\n",
      "Epoch 51/150\n",
      "137/137 [==============================] - 176s 1s/step - loss: 1.6565 - accuracy: 0.5240 - val_loss: 2.1273 - val_accuracy: 0.4203\n",
      "Epoch 52/150\n",
      "137/137 [==============================] - 182s 1s/step - loss: 1.6593 - accuracy: 0.5240 - val_loss: 1.9577 - val_accuracy: 0.4511\n",
      "Epoch 53/150\n",
      "137/137 [==============================] - 193s 1s/step - loss: 1.6515 - accuracy: 0.5220 - val_loss: 2.1810 - val_accuracy: 0.4044\n",
      "Epoch 54/150\n",
      "137/137 [==============================] - 180s 1s/step - loss: 1.6389 - accuracy: 0.5265 - val_loss: 2.4126 - val_accuracy: 0.3542\n",
      "Epoch 55/150\n",
      "137/137 [==============================] - 177s 1s/step - loss: 1.6293 - accuracy: 0.5308 - val_loss: 1.9331 - val_accuracy: 0.4527\n",
      "Epoch 56/150\n",
      "137/137 [==============================] - 194s 1s/step - loss: 1.6275 - accuracy: 0.5302 - val_loss: 2.4010 - val_accuracy: 0.3518\n",
      "Epoch 57/150\n",
      "137/137 [==============================] - 189s 1s/step - loss: 1.6121 - accuracy: 0.5332 - val_loss: 2.1464 - val_accuracy: 0.4091\n",
      "Epoch 58/150\n",
      "137/137 [==============================] - 179s 1s/step - loss: 1.6219 - accuracy: 0.5329 - val_loss: 1.9430 - val_accuracy: 0.4537\n",
      "Epoch 59/150\n",
      "137/137 [==============================] - 173s 1s/step - loss: 1.5976 - accuracy: 0.5386 - val_loss: 2.0638 - val_accuracy: 0.4200\n",
      "Epoch 60/150\n",
      " 69/137 [==============>...............] - ETA: 1:24 - loss: 1.5909 - accuracy: 0.5393"
     ]
    },
    {
     "ename": "KeyboardInterrupt",
     "evalue": "",
     "output_type": "error",
     "traceback": [
      "\u001b[0;31m---------------------------------------------------------------------------\u001b[0m",
      "\u001b[0;31mKeyboardInterrupt\u001b[0m                         Traceback (most recent call last)",
      "Input \u001b[0;32mIn [13]\u001b[0m, in \u001b[0;36m<cell line: 1>\u001b[0;34m()\u001b[0m\n\u001b[0;32m----> 1\u001b[0m history \u001b[38;5;241m=\u001b[39m \u001b[43mmodel\u001b[49m\u001b[38;5;241;43m.\u001b[39;49m\u001b[43mfit\u001b[49m\u001b[43m(\u001b[49m\u001b[43mX_train\u001b[49m\u001b[43m,\u001b[49m\u001b[43m  \u001b[49m\u001b[43my_train_one_hot\u001b[49m\u001b[43m,\u001b[49m\n\u001b[1;32m      2\u001b[0m \u001b[43m                    \u001b[49m\u001b[43mbatch_size\u001b[49m\u001b[38;5;241;43m=\u001b[39;49m\u001b[43mbatch_size\u001b[49m\u001b[43m,\u001b[49m\n\u001b[1;32m      3\u001b[0m \u001b[43m                    \u001b[49m\u001b[43mepochs\u001b[49m\u001b[38;5;241;43m=\u001b[39;49m\u001b[43mepochs\u001b[49m\u001b[43m,\u001b[49m\u001b[43m \u001b[49m\n\u001b[1;32m      4\u001b[0m \u001b[43m                    \u001b[49m\u001b[43mvalidation_data\u001b[49m\u001b[38;5;241;43m=\u001b[39;49m\u001b[43m(\u001b[49m\u001b[43mX_test\u001b[49m\u001b[43m,\u001b[49m\u001b[43m \u001b[49m\u001b[43my_test_one_hot\u001b[49m\u001b[43m)\u001b[49m\u001b[43m)\u001b[49m\n",
      "File \u001b[0;32m~/miniforge3/envs/rl/lib/python3.8/site-packages/keras/utils/traceback_utils.py:64\u001b[0m, in \u001b[0;36mfilter_traceback.<locals>.error_handler\u001b[0;34m(*args, **kwargs)\u001b[0m\n\u001b[1;32m     62\u001b[0m filtered_tb \u001b[38;5;241m=\u001b[39m \u001b[38;5;28;01mNone\u001b[39;00m\n\u001b[1;32m     63\u001b[0m \u001b[38;5;28;01mtry\u001b[39;00m:\n\u001b[0;32m---> 64\u001b[0m   \u001b[38;5;28;01mreturn\u001b[39;00m \u001b[43mfn\u001b[49m\u001b[43m(\u001b[49m\u001b[38;5;241;43m*\u001b[39;49m\u001b[43margs\u001b[49m\u001b[43m,\u001b[49m\u001b[43m \u001b[49m\u001b[38;5;241;43m*\u001b[39;49m\u001b[38;5;241;43m*\u001b[39;49m\u001b[43mkwargs\u001b[49m\u001b[43m)\u001b[49m\n\u001b[1;32m     65\u001b[0m \u001b[38;5;28;01mexcept\u001b[39;00m \u001b[38;5;167;01mException\u001b[39;00m \u001b[38;5;28;01mas\u001b[39;00m e:  \u001b[38;5;66;03m# pylint: disable=broad-except\u001b[39;00m\n\u001b[1;32m     66\u001b[0m   filtered_tb \u001b[38;5;241m=\u001b[39m _process_traceback_frames(e\u001b[38;5;241m.\u001b[39m__traceback__)\n",
      "File \u001b[0;32m~/miniforge3/envs/rl/lib/python3.8/site-packages/keras/engine/training.py:1384\u001b[0m, in \u001b[0;36mModel.fit\u001b[0;34m(self, x, y, batch_size, epochs, verbose, callbacks, validation_split, validation_data, shuffle, class_weight, sample_weight, initial_epoch, steps_per_epoch, validation_steps, validation_batch_size, validation_freq, max_queue_size, workers, use_multiprocessing)\u001b[0m\n\u001b[1;32m   1377\u001b[0m \u001b[38;5;28;01mwith\u001b[39;00m tf\u001b[38;5;241m.\u001b[39mprofiler\u001b[38;5;241m.\u001b[39mexperimental\u001b[38;5;241m.\u001b[39mTrace(\n\u001b[1;32m   1378\u001b[0m     \u001b[38;5;124m'\u001b[39m\u001b[38;5;124mtrain\u001b[39m\u001b[38;5;124m'\u001b[39m,\n\u001b[1;32m   1379\u001b[0m     epoch_num\u001b[38;5;241m=\u001b[39mepoch,\n\u001b[1;32m   1380\u001b[0m     step_num\u001b[38;5;241m=\u001b[39mstep,\n\u001b[1;32m   1381\u001b[0m     batch_size\u001b[38;5;241m=\u001b[39mbatch_size,\n\u001b[1;32m   1382\u001b[0m     _r\u001b[38;5;241m=\u001b[39m\u001b[38;5;241m1\u001b[39m):\n\u001b[1;32m   1383\u001b[0m   callbacks\u001b[38;5;241m.\u001b[39mon_train_batch_begin(step)\n\u001b[0;32m-> 1384\u001b[0m   tmp_logs \u001b[38;5;241m=\u001b[39m \u001b[38;5;28;43mself\u001b[39;49m\u001b[38;5;241;43m.\u001b[39;49m\u001b[43mtrain_function\u001b[49m\u001b[43m(\u001b[49m\u001b[43miterator\u001b[49m\u001b[43m)\u001b[49m\n\u001b[1;32m   1385\u001b[0m   \u001b[38;5;28;01mif\u001b[39;00m data_handler\u001b[38;5;241m.\u001b[39mshould_sync:\n\u001b[1;32m   1386\u001b[0m     context\u001b[38;5;241m.\u001b[39masync_wait()\n",
      "File \u001b[0;32m~/miniforge3/envs/rl/lib/python3.8/site-packages/tensorflow/python/util/traceback_utils.py:150\u001b[0m, in \u001b[0;36mfilter_traceback.<locals>.error_handler\u001b[0;34m(*args, **kwargs)\u001b[0m\n\u001b[1;32m    148\u001b[0m filtered_tb \u001b[38;5;241m=\u001b[39m \u001b[38;5;28;01mNone\u001b[39;00m\n\u001b[1;32m    149\u001b[0m \u001b[38;5;28;01mtry\u001b[39;00m:\n\u001b[0;32m--> 150\u001b[0m   \u001b[38;5;28;01mreturn\u001b[39;00m \u001b[43mfn\u001b[49m\u001b[43m(\u001b[49m\u001b[38;5;241;43m*\u001b[39;49m\u001b[43margs\u001b[49m\u001b[43m,\u001b[49m\u001b[43m \u001b[49m\u001b[38;5;241;43m*\u001b[39;49m\u001b[38;5;241;43m*\u001b[39;49m\u001b[43mkwargs\u001b[49m\u001b[43m)\u001b[49m\n\u001b[1;32m    151\u001b[0m \u001b[38;5;28;01mexcept\u001b[39;00m \u001b[38;5;167;01mException\u001b[39;00m \u001b[38;5;28;01mas\u001b[39;00m e:\n\u001b[1;32m    152\u001b[0m   filtered_tb \u001b[38;5;241m=\u001b[39m _process_traceback_frames(e\u001b[38;5;241m.\u001b[39m__traceback__)\n",
      "File \u001b[0;32m~/miniforge3/envs/rl/lib/python3.8/site-packages/tensorflow/python/eager/def_function.py:915\u001b[0m, in \u001b[0;36mFunction.__call__\u001b[0;34m(self, *args, **kwds)\u001b[0m\n\u001b[1;32m    912\u001b[0m compiler \u001b[38;5;241m=\u001b[39m \u001b[38;5;124m\"\u001b[39m\u001b[38;5;124mxla\u001b[39m\u001b[38;5;124m\"\u001b[39m \u001b[38;5;28;01mif\u001b[39;00m \u001b[38;5;28mself\u001b[39m\u001b[38;5;241m.\u001b[39m_jit_compile \u001b[38;5;28;01melse\u001b[39;00m \u001b[38;5;124m\"\u001b[39m\u001b[38;5;124mnonXla\u001b[39m\u001b[38;5;124m\"\u001b[39m\n\u001b[1;32m    914\u001b[0m \u001b[38;5;28;01mwith\u001b[39;00m OptionalXlaContext(\u001b[38;5;28mself\u001b[39m\u001b[38;5;241m.\u001b[39m_jit_compile):\n\u001b[0;32m--> 915\u001b[0m   result \u001b[38;5;241m=\u001b[39m \u001b[38;5;28;43mself\u001b[39;49m\u001b[38;5;241;43m.\u001b[39;49m\u001b[43m_call\u001b[49m\u001b[43m(\u001b[49m\u001b[38;5;241;43m*\u001b[39;49m\u001b[43margs\u001b[49m\u001b[43m,\u001b[49m\u001b[43m \u001b[49m\u001b[38;5;241;43m*\u001b[39;49m\u001b[38;5;241;43m*\u001b[39;49m\u001b[43mkwds\u001b[49m\u001b[43m)\u001b[49m\n\u001b[1;32m    917\u001b[0m new_tracing_count \u001b[38;5;241m=\u001b[39m \u001b[38;5;28mself\u001b[39m\u001b[38;5;241m.\u001b[39mexperimental_get_tracing_count()\n\u001b[1;32m    918\u001b[0m without_tracing \u001b[38;5;241m=\u001b[39m (tracing_count \u001b[38;5;241m==\u001b[39m new_tracing_count)\n",
      "File \u001b[0;32m~/miniforge3/envs/rl/lib/python3.8/site-packages/tensorflow/python/eager/def_function.py:947\u001b[0m, in \u001b[0;36mFunction._call\u001b[0;34m(self, *args, **kwds)\u001b[0m\n\u001b[1;32m    944\u001b[0m   \u001b[38;5;28mself\u001b[39m\u001b[38;5;241m.\u001b[39m_lock\u001b[38;5;241m.\u001b[39mrelease()\n\u001b[1;32m    945\u001b[0m   \u001b[38;5;66;03m# In this case we have created variables on the first call, so we run the\u001b[39;00m\n\u001b[1;32m    946\u001b[0m   \u001b[38;5;66;03m# defunned version which is guaranteed to never create variables.\u001b[39;00m\n\u001b[0;32m--> 947\u001b[0m   \u001b[38;5;28;01mreturn\u001b[39;00m \u001b[38;5;28;43mself\u001b[39;49m\u001b[38;5;241;43m.\u001b[39;49m\u001b[43m_stateless_fn\u001b[49m\u001b[43m(\u001b[49m\u001b[38;5;241;43m*\u001b[39;49m\u001b[43margs\u001b[49m\u001b[43m,\u001b[49m\u001b[43m \u001b[49m\u001b[38;5;241;43m*\u001b[39;49m\u001b[38;5;241;43m*\u001b[39;49m\u001b[43mkwds\u001b[49m\u001b[43m)\u001b[49m  \u001b[38;5;66;03m# pylint: disable=not-callable\u001b[39;00m\n\u001b[1;32m    948\u001b[0m \u001b[38;5;28;01melif\u001b[39;00m \u001b[38;5;28mself\u001b[39m\u001b[38;5;241m.\u001b[39m_stateful_fn \u001b[38;5;129;01mis\u001b[39;00m \u001b[38;5;129;01mnot\u001b[39;00m \u001b[38;5;28;01mNone\u001b[39;00m:\n\u001b[1;32m    949\u001b[0m   \u001b[38;5;66;03m# Release the lock early so that multiple threads can perform the call\u001b[39;00m\n\u001b[1;32m    950\u001b[0m   \u001b[38;5;66;03m# in parallel.\u001b[39;00m\n\u001b[1;32m    951\u001b[0m   \u001b[38;5;28mself\u001b[39m\u001b[38;5;241m.\u001b[39m_lock\u001b[38;5;241m.\u001b[39mrelease()\n",
      "File \u001b[0;32m~/miniforge3/envs/rl/lib/python3.8/site-packages/tensorflow/python/eager/function.py:2956\u001b[0m, in \u001b[0;36mFunction.__call__\u001b[0;34m(self, *args, **kwargs)\u001b[0m\n\u001b[1;32m   2953\u001b[0m \u001b[38;5;28;01mwith\u001b[39;00m \u001b[38;5;28mself\u001b[39m\u001b[38;5;241m.\u001b[39m_lock:\n\u001b[1;32m   2954\u001b[0m   (graph_function,\n\u001b[1;32m   2955\u001b[0m    filtered_flat_args) \u001b[38;5;241m=\u001b[39m \u001b[38;5;28mself\u001b[39m\u001b[38;5;241m.\u001b[39m_maybe_define_function(args, kwargs)\n\u001b[0;32m-> 2956\u001b[0m \u001b[38;5;28;01mreturn\u001b[39;00m \u001b[43mgraph_function\u001b[49m\u001b[38;5;241;43m.\u001b[39;49m\u001b[43m_call_flat\u001b[49m\u001b[43m(\u001b[49m\n\u001b[1;32m   2957\u001b[0m \u001b[43m    \u001b[49m\u001b[43mfiltered_flat_args\u001b[49m\u001b[43m,\u001b[49m\u001b[43m \u001b[49m\u001b[43mcaptured_inputs\u001b[49m\u001b[38;5;241;43m=\u001b[39;49m\u001b[43mgraph_function\u001b[49m\u001b[38;5;241;43m.\u001b[39;49m\u001b[43mcaptured_inputs\u001b[49m\u001b[43m)\u001b[49m\n",
      "File \u001b[0;32m~/miniforge3/envs/rl/lib/python3.8/site-packages/tensorflow/python/eager/function.py:1853\u001b[0m, in \u001b[0;36mConcreteFunction._call_flat\u001b[0;34m(self, args, captured_inputs, cancellation_manager)\u001b[0m\n\u001b[1;32m   1849\u001b[0m possible_gradient_type \u001b[38;5;241m=\u001b[39m gradients_util\u001b[38;5;241m.\u001b[39mPossibleTapeGradientTypes(args)\n\u001b[1;32m   1850\u001b[0m \u001b[38;5;28;01mif\u001b[39;00m (possible_gradient_type \u001b[38;5;241m==\u001b[39m gradients_util\u001b[38;5;241m.\u001b[39mPOSSIBLE_GRADIENT_TYPES_NONE\n\u001b[1;32m   1851\u001b[0m     \u001b[38;5;129;01mand\u001b[39;00m executing_eagerly):\n\u001b[1;32m   1852\u001b[0m   \u001b[38;5;66;03m# No tape is watching; skip to running the function.\u001b[39;00m\n\u001b[0;32m-> 1853\u001b[0m   \u001b[38;5;28;01mreturn\u001b[39;00m \u001b[38;5;28mself\u001b[39m\u001b[38;5;241m.\u001b[39m_build_call_outputs(\u001b[38;5;28;43mself\u001b[39;49m\u001b[38;5;241;43m.\u001b[39;49m\u001b[43m_inference_function\u001b[49m\u001b[38;5;241;43m.\u001b[39;49m\u001b[43mcall\u001b[49m\u001b[43m(\u001b[49m\n\u001b[1;32m   1854\u001b[0m \u001b[43m      \u001b[49m\u001b[43mctx\u001b[49m\u001b[43m,\u001b[49m\u001b[43m \u001b[49m\u001b[43margs\u001b[49m\u001b[43m,\u001b[49m\u001b[43m \u001b[49m\u001b[43mcancellation_manager\u001b[49m\u001b[38;5;241;43m=\u001b[39;49m\u001b[43mcancellation_manager\u001b[49m\u001b[43m)\u001b[49m)\n\u001b[1;32m   1855\u001b[0m forward_backward \u001b[38;5;241m=\u001b[39m \u001b[38;5;28mself\u001b[39m\u001b[38;5;241m.\u001b[39m_select_forward_and_backward_functions(\n\u001b[1;32m   1856\u001b[0m     args,\n\u001b[1;32m   1857\u001b[0m     possible_gradient_type,\n\u001b[1;32m   1858\u001b[0m     executing_eagerly)\n\u001b[1;32m   1859\u001b[0m forward_function, args_with_tangents \u001b[38;5;241m=\u001b[39m forward_backward\u001b[38;5;241m.\u001b[39mforward()\n",
      "File \u001b[0;32m~/miniforge3/envs/rl/lib/python3.8/site-packages/tensorflow/python/eager/function.py:499\u001b[0m, in \u001b[0;36m_EagerDefinedFunction.call\u001b[0;34m(self, ctx, args, cancellation_manager)\u001b[0m\n\u001b[1;32m    497\u001b[0m \u001b[38;5;28;01mwith\u001b[39;00m _InterpolateFunctionError(\u001b[38;5;28mself\u001b[39m):\n\u001b[1;32m    498\u001b[0m   \u001b[38;5;28;01mif\u001b[39;00m cancellation_manager \u001b[38;5;129;01mis\u001b[39;00m \u001b[38;5;28;01mNone\u001b[39;00m:\n\u001b[0;32m--> 499\u001b[0m     outputs \u001b[38;5;241m=\u001b[39m \u001b[43mexecute\u001b[49m\u001b[38;5;241;43m.\u001b[39;49m\u001b[43mexecute\u001b[49m\u001b[43m(\u001b[49m\n\u001b[1;32m    500\u001b[0m \u001b[43m        \u001b[49m\u001b[38;5;28;43mstr\u001b[39;49m\u001b[43m(\u001b[49m\u001b[38;5;28;43mself\u001b[39;49m\u001b[38;5;241;43m.\u001b[39;49m\u001b[43msignature\u001b[49m\u001b[38;5;241;43m.\u001b[39;49m\u001b[43mname\u001b[49m\u001b[43m)\u001b[49m\u001b[43m,\u001b[49m\n\u001b[1;32m    501\u001b[0m \u001b[43m        \u001b[49m\u001b[43mnum_outputs\u001b[49m\u001b[38;5;241;43m=\u001b[39;49m\u001b[38;5;28;43mself\u001b[39;49m\u001b[38;5;241;43m.\u001b[39;49m\u001b[43m_num_outputs\u001b[49m\u001b[43m,\u001b[49m\n\u001b[1;32m    502\u001b[0m \u001b[43m        \u001b[49m\u001b[43minputs\u001b[49m\u001b[38;5;241;43m=\u001b[39;49m\u001b[43margs\u001b[49m\u001b[43m,\u001b[49m\n\u001b[1;32m    503\u001b[0m \u001b[43m        \u001b[49m\u001b[43mattrs\u001b[49m\u001b[38;5;241;43m=\u001b[39;49m\u001b[43mattrs\u001b[49m\u001b[43m,\u001b[49m\n\u001b[1;32m    504\u001b[0m \u001b[43m        \u001b[49m\u001b[43mctx\u001b[49m\u001b[38;5;241;43m=\u001b[39;49m\u001b[43mctx\u001b[49m\u001b[43m)\u001b[49m\n\u001b[1;32m    505\u001b[0m   \u001b[38;5;28;01melse\u001b[39;00m:\n\u001b[1;32m    506\u001b[0m     outputs \u001b[38;5;241m=\u001b[39m execute\u001b[38;5;241m.\u001b[39mexecute_with_cancellation(\n\u001b[1;32m    507\u001b[0m         \u001b[38;5;28mstr\u001b[39m(\u001b[38;5;28mself\u001b[39m\u001b[38;5;241m.\u001b[39msignature\u001b[38;5;241m.\u001b[39mname),\n\u001b[1;32m    508\u001b[0m         num_outputs\u001b[38;5;241m=\u001b[39m\u001b[38;5;28mself\u001b[39m\u001b[38;5;241m.\u001b[39m_num_outputs,\n\u001b[0;32m   (...)\u001b[0m\n\u001b[1;32m    511\u001b[0m         ctx\u001b[38;5;241m=\u001b[39mctx,\n\u001b[1;32m    512\u001b[0m         cancellation_manager\u001b[38;5;241m=\u001b[39mcancellation_manager)\n",
      "File \u001b[0;32m~/miniforge3/envs/rl/lib/python3.8/site-packages/tensorflow/python/eager/execute.py:54\u001b[0m, in \u001b[0;36mquick_execute\u001b[0;34m(op_name, num_outputs, inputs, attrs, ctx, name)\u001b[0m\n\u001b[1;32m     52\u001b[0m \u001b[38;5;28;01mtry\u001b[39;00m:\n\u001b[1;32m     53\u001b[0m   ctx\u001b[38;5;241m.\u001b[39mensure_initialized()\n\u001b[0;32m---> 54\u001b[0m   tensors \u001b[38;5;241m=\u001b[39m \u001b[43mpywrap_tfe\u001b[49m\u001b[38;5;241;43m.\u001b[39;49m\u001b[43mTFE_Py_Execute\u001b[49m\u001b[43m(\u001b[49m\u001b[43mctx\u001b[49m\u001b[38;5;241;43m.\u001b[39;49m\u001b[43m_handle\u001b[49m\u001b[43m,\u001b[49m\u001b[43m \u001b[49m\u001b[43mdevice_name\u001b[49m\u001b[43m,\u001b[49m\u001b[43m \u001b[49m\u001b[43mop_name\u001b[49m\u001b[43m,\u001b[49m\n\u001b[1;32m     55\u001b[0m \u001b[43m                                      \u001b[49m\u001b[43minputs\u001b[49m\u001b[43m,\u001b[49m\u001b[43m \u001b[49m\u001b[43mattrs\u001b[49m\u001b[43m,\u001b[49m\u001b[43m \u001b[49m\u001b[43mnum_outputs\u001b[49m\u001b[43m)\u001b[49m\n\u001b[1;32m     56\u001b[0m \u001b[38;5;28;01mexcept\u001b[39;00m core\u001b[38;5;241m.\u001b[39m_NotOkStatusException \u001b[38;5;28;01mas\u001b[39;00m e:\n\u001b[1;32m     57\u001b[0m   \u001b[38;5;28;01mif\u001b[39;00m name \u001b[38;5;129;01mis\u001b[39;00m \u001b[38;5;129;01mnot\u001b[39;00m \u001b[38;5;28;01mNone\u001b[39;00m:\n",
      "\u001b[0;31mKeyboardInterrupt\u001b[0m: "
     ]
    }
   ],
   "source": [
    "history = model.fit(X_train,  y_train_one_hot,\n",
    "                    batch_size=batch_size,\n",
    "                    epochs=epochs, \n",
    "                    validation_data=(X_test, y_test_one_hot))"
   ]
  },
  {
   "cell_type": "code",
   "execution_count": null,
   "metadata": {
    "pycharm": {
     "name": "#%%\n"
    }
   },
   "outputs": [],
   "source": [
    "model.evaluate(X_test, y_test_one_hot)"
   ]
  },
  {
   "cell_type": "code",
   "execution_count": null,
   "metadata": {
    "pycharm": {
     "name": "#%%\n"
    }
   },
   "outputs": [],
   "source": [
    "print(history.history.keys())\n",
    "# summarize history for accuracy\n",
    "plt.plot(history.history['accuracy'])\n",
    "plt.plot(history.history['val_accuracy'])\n",
    "plt.title('model accuracy')\n",
    "plt.ylabel('accuracy')\n",
    "plt.xlabel('epoch')\n",
    "plt.legend(['train', 'test'], loc='upper left')\n",
    "plt.show()"
   ]
  },
  {
   "cell_type": "code",
   "execution_count": null,
   "metadata": {
    "pycharm": {
     "name": "#%%\n"
    }
   },
   "outputs": [],
   "source": [
    "plt.plot(history.history['loss'])\n",
    "plt.plot(history.history['val_loss'])\n",
    "plt.title('model loss')\n",
    "plt.ylabel('loss')\n",
    "plt.xlabel('epoch')\n",
    "plt.legend(['train', 'test'], loc='upper left')\n",
    "plt.show()"
   ]
  },
  {
   "cell_type": "code",
   "execution_count": null,
   "metadata": {
    "pycharm": {
     "name": "#%%\n"
    }
   },
   "outputs": [],
   "source": [
    "model.save('256_128_64_32.h5')"
   ]
  },
  {
   "cell_type": "code",
   "execution_count": null,
   "metadata": {
    "pycharm": {
     "name": "#%%\n"
    }
   },
   "outputs": [],
   "source": []
  }
 ],
 "metadata": {
  "interpreter": {
   "hash": "e1f42977e8b061648dc164d05f79f5d4b4f361010318102ec5e8b8bce2c5fd4f"
  },
  "kernelspec": {
   "display_name": "Python 3 (ipykernel)",
   "language": "python",
   "name": "python3"
  },
  "language_info": {
   "codemirror_mode": {
    "name": "ipython",
    "version": 3
   },
   "file_extension": ".py",
   "mimetype": "text/x-python",
   "name": "python",
   "nbconvert_exporter": "python",
   "pygments_lexer": "ipython3",
   "version": "3.9.10"
  }
 },
 "nbformat": 4,
 "nbformat_minor": 2
}
