{
 "cells": [
  {
   "cell_type": "code",
   "execution_count": 1,
   "metadata": {},
   "outputs": [],
   "source": [
    "import tensorflow as tf"
   ]
  },
  {
   "cell_type": "code",
   "execution_count": 11,
   "metadata": {},
   "outputs": [
    {
     "name": "stdout",
     "output_type": "stream",
     "text": [
      "Model: \"sequential_1\"\n",
      "_________________________________________________________________\n",
      " Layer (type)                Output Shape              Param #   \n",
      "=================================================================\n",
      " conv2d_4 (Conv2D)           (None, 98, 98, 32)        896       \n",
      "                                                                 \n",
      " max_pooling2d_4 (MaxPooling  (None, 49, 49, 32)       0         \n",
      " 2D)                                                             \n",
      "                                                                 \n",
      " dropout_5 (Dropout)         (None, 49, 49, 32)        0         \n",
      "                                                                 \n",
      " conv2d_5 (Conv2D)           (None, 47, 47, 32)        9248      \n",
      "                                                                 \n",
      " max_pooling2d_5 (MaxPooling  (None, 23, 23, 32)       0         \n",
      " 2D)                                                             \n",
      "                                                                 \n",
      " dropout_6 (Dropout)         (None, 23, 23, 32)        0         \n",
      "                                                                 \n",
      " conv2d_6 (Conv2D)           (None, 21, 21, 64)        18496     \n",
      "                                                                 \n",
      " max_pooling2d_6 (MaxPooling  (None, 10, 10, 64)       0         \n",
      " 2D)                                                             \n",
      "                                                                 \n",
      " dropout_7 (Dropout)         (None, 10, 10, 64)        0         \n",
      "                                                                 \n",
      " conv2d_7 (Conv2D)           (None, 10, 10, 128)       8320      \n",
      "                                                                 \n",
      " max_pooling2d_7 (MaxPooling  (None, 5, 5, 128)        0         \n",
      " 2D)                                                             \n",
      "                                                                 \n",
      " dropout_8 (Dropout)         (None, 5, 5, 128)         0         \n",
      "                                                                 \n",
      " flatten_1 (Flatten)         (None, 3200)              0         \n",
      "                                                                 \n",
      " dropout_9 (Dropout)         (None, 3200)              0         \n",
      "                                                                 \n",
      " dense_1 (Dense)             (None, 56)                179256    \n",
      "                                                                 \n",
      "=================================================================\n",
      "Total params: 216,216\n",
      "Trainable params: 216,216\n",
      "Non-trainable params: 0\n",
      "_________________________________________________________________\n"
     ]
    }
   ],
   "source": [
    "from keras.models import load_model\n",
    "\n",
    "\n",
    "model = load_model('../models/32-64-128.h5')\n",
    "model.summary()"
   ]
  },
  {
   "cell_type": "code",
   "execution_count": 12,
   "metadata": {},
   "outputs": [
    {
     "ename": "NameError",
     "evalue": "name 'np' is not defined",
     "output_type": "error",
     "traceback": [
      "\u001b[0;31m---------------------------------------------------------------------------\u001b[0m",
      "\u001b[0;31mNameError\u001b[0m                                 Traceback (most recent call last)",
      "\u001b[1;32m/Users/claudiufilip/Projects/University/IGP/igp-team15/notebooks/test_notebook.ipynb Cell 3'\u001b[0m in \u001b[0;36m<cell line: 1>\u001b[0;34m()\u001b[0m\n\u001b[0;32m----> <a href='vscode-notebook-cell:/Users/claudiufilip/Projects/University/IGP/igp-team15/notebooks/test_notebook.ipynb#ch0000002?line=0'>1</a>\u001b[0m X \u001b[39m=\u001b[39m np\u001b[39m.\u001b[39mempty(shape\u001b[39m=\u001b[39m(\u001b[39m1\u001b[39m,\u001b[39m100\u001b[39m, \u001b[39m100\u001b[39m, \u001b[39m3\u001b[39m))\n\u001b[1;32m      <a href='vscode-notebook-cell:/Users/claudiufilip/Projects/University/IGP/igp-team15/notebooks/test_notebook.ipynb#ch0000002?line=1'>2</a>\u001b[0m y \u001b[39m=\u001b[39m np\u001b[39m.\u001b[39mempty(shape\u001b[39m=\u001b[39m(\u001b[39m1\u001b[39m,\u001b[39m1\u001b[39m), dtype\u001b[39m=\u001b[39mnp\u001b[39m.\u001b[39mint32)\n\u001b[1;32m      <a href='vscode-notebook-cell:/Users/claudiufilip/Projects/University/IGP/igp-team15/notebooks/test_notebook.ipynb#ch0000002?line=3'>4</a>\u001b[0m \u001b[39mfor\u001b[39;00m i, dish \u001b[39min\u001b[39;00m \u001b[39menumerate\u001b[39m(dishes):\n",
      "\u001b[0;31mNameError\u001b[0m: name 'np' is not defined"
     ]
    }
   ],
   "source": [
    "import numpy as np\n",
    "import glob\n",
    "\n",
    "X = np.empty(shape=(1,100, 100, 3))\n",
    "y = np.empty(shape=(1,1), dtype=np.int32)\n",
    "\n",
    "for i, dish in enumerate(dishes):\n",
    "    files = glob.glob((os.getcwd()+'/../input_data/augmented_images_100p/'+dish+'/*.jpg'))\n",
    "    images = np.array([np.asarray(cv2.imread(file)) for file in files])\n",
    "\n",
    "    X = np.concatenate((X, images), axis=0)\n",
    "    _y = np.array(dishes_dict[dish], ndmin=2)\n",
    "\n",
    "    print(images.shape, _y.shape)\n",
    "\n",
    "    for i in range(images.shape[0]):\n",
    "        y = np.concatenate((y, _y), axis=0)"
   ]
  },
  {
   "cell_type": "code",
   "execution_count": null,
   "metadata": {},
   "outputs": [],
   "source": []
  }
 ],
 "metadata": {
  "interpreter": {
   "hash": "294127161cfd744f5483a1f73b8b9ea24e75d77cff27b3f82848b1d4bd3d4eb8"
  },
  "kernelspec": {
   "display_name": "Python 3.8.12 ('rl')",
   "language": "python",
   "name": "python3"
  },
  "language_info": {
   "codemirror_mode": {
    "name": "ipython",
    "version": 3
   },
   "file_extension": ".py",
   "mimetype": "text/x-python",
   "name": "python",
   "nbconvert_exporter": "python",
   "pygments_lexer": "ipython3",
   "version": "3.8.12"
  },
  "orig_nbformat": 4
 },
 "nbformat": 4,
 "nbformat_minor": 2
}
